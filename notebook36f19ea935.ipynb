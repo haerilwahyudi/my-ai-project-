{
 "cells": [
  {
   "cell_type": "code",
   "execution_count": 1,
   "id": "e3b51c46",
   "metadata": {
    "_cell_guid": "b1076dfc-b9ad-4769-8c92-a6c4dae69d19",
    "_uuid": "8f2839f25d086af736a60e9eeb907d3b93b6e0e5",
    "execution": {
     "iopub.execute_input": "2025-03-23T20:54:22.594928Z",
     "iopub.status.busy": "2025-03-23T20:54:22.594509Z",
     "iopub.status.idle": "2025-03-23T20:54:26.493458Z",
     "shell.execute_reply": "2025-03-23T20:54:26.492037Z"
    },
    "papermill": {
     "duration": 3.906283,
     "end_time": "2025-03-23T20:54:26.495363",
     "exception": false,
     "start_time": "2025-03-23T20:54:22.589080",
     "status": "completed"
    },
    "tags": []
   },
   "outputs": [
    {
     "name": "stdout",
     "output_type": "stream",
     "text": [
      "/kaggle/input/techcorner-mobile-purchase-and-engagement-data/TechCorner_Sales_update.csv\n"
     ]
    }
   ],
   "source": [
    "# This Python 3 environment comes with many helpful analytics libraries installed\n",
    "# It is defined by the kaggle/python Docker image: https://github.com/kaggle/docker-python\n",
    "# For example, here's several helpful packages to load\n",
    "\n",
    "import numpy as np # linear algebra\n",
    "import pandas as pd # data processing, CSV file I/O (e.g. pd.read_csv)\n",
    "import matplotlib.pyplot as plt  # Import matplotlib.pyplot\n",
    "import seaborn as sns\n",
    "import warnings\n",
    "warnings.filterwarnings(\"ignore\", category=FutureWarning)\n",
    "from sklearn.model_selection import train_test_split\n",
    "from sklearn.linear_model import LinearRegression\n",
    "from sklearn.ensemble import RandomForestRegressor, GradientBoostingRegressor\n",
    "from sklearn.metrics import mean_squared_error, r2_score\n",
    "\n",
    "# Input data files are available in the read-only \"../input/\" directory\n",
    "# For example, running this (by clicking run or pressing Shift+Enter) will list all files under the input directory\n",
    "\n",
    "import os\n",
    "for dirname, _, filenames in os.walk('/kaggle/input'):\n",
    "    for filename in filenames:\n",
    "        print(os.path.join(dirname, filename))\n",
    "\n",
    "# You can write up to 20GB to the current directory (/kaggle/working/) that gets preserved as output when you create a version using \"Save & Run All\" \n",
    "# You can also write temporary files to /kaggle/temp/, but they won't be saved outside of the current session"
   ]
  },
  {
   "cell_type": "code",
   "execution_count": 2,
   "id": "adb68c45",
   "metadata": {
    "execution": {
     "iopub.execute_input": "2025-03-23T20:54:26.504036Z",
     "iopub.status.busy": "2025-03-23T20:54:26.503552Z",
     "iopub.status.idle": "2025-03-23T20:54:26.552712Z",
     "shell.execute_reply": "2025-03-23T20:54:26.551331Z"
    },
    "papermill": {
     "duration": 0.055947,
     "end_time": "2025-03-23T20:54:26.555178",
     "exception": false,
     "start_time": "2025-03-23T20:54:26.499231",
     "status": "completed"
    },
    "tags": []
   },
   "outputs": [],
   "source": [
    "data = pd.read_csv('/kaggle/input/techcorner-mobile-purchase-and-engagement-data/TechCorner_Sales_update.csv')"
   ]
  },
  {
   "cell_type": "code",
   "execution_count": 3,
   "id": "c3f6aa46",
   "metadata": {
    "execution": {
     "iopub.execute_input": "2025-03-23T20:54:26.568004Z",
     "iopub.status.busy": "2025-03-23T20:54:26.567435Z",
     "iopub.status.idle": "2025-03-23T20:54:26.609010Z",
     "shell.execute_reply": "2025-03-23T20:54:26.607781Z"
    },
    "papermill": {
     "duration": 0.049733,
     "end_time": "2025-03-23T20:54:26.610964",
     "exception": false,
     "start_time": "2025-03-23T20:54:26.561231",
     "status": "completed"
    },
    "tags": []
   },
   "outputs": [
    {
     "data": {
      "text/html": [
       "<div>\n",
       "<style scoped>\n",
       "    .dataframe tbody tr th:only-of-type {\n",
       "        vertical-align: middle;\n",
       "    }\n",
       "\n",
       "    .dataframe tbody tr th {\n",
       "        vertical-align: top;\n",
       "    }\n",
       "\n",
       "    .dataframe thead th {\n",
       "        text-align: right;\n",
       "    }\n",
       "</style>\n",
       "<table border=\"1\" class=\"dataframe\">\n",
       "  <thead>\n",
       "    <tr style=\"text-align: right;\">\n",
       "      <th></th>\n",
       "      <th>Cus.ID</th>\n",
       "      <th>Date</th>\n",
       "      <th>Cus. Location</th>\n",
       "      <th>Age</th>\n",
       "      <th>Gender</th>\n",
       "      <th>Mobile Name</th>\n",
       "      <th>Sell Price</th>\n",
       "      <th>Does he/she Come from Facebook Page?</th>\n",
       "      <th>Does he/she Followed Our Page?</th>\n",
       "      <th>Did he/she buy any mobile before?</th>\n",
       "      <th>Did he/she hear of our shop before?</th>\n",
       "    </tr>\n",
       "  </thead>\n",
       "  <tbody>\n",
       "    <tr>\n",
       "      <th>0</th>\n",
       "      <td>1</td>\n",
       "      <td>27-05-2024</td>\n",
       "      <td>Rangamati Sadar</td>\n",
       "      <td>49</td>\n",
       "      <td>F</td>\n",
       "      <td>Galaxy A55 5G 8/128</td>\n",
       "      <td>17073.0</td>\n",
       "      <td>No</td>\n",
       "      <td>Yes</td>\n",
       "      <td>No</td>\n",
       "      <td>Yes</td>\n",
       "    </tr>\n",
       "    <tr>\n",
       "      <th>1</th>\n",
       "      <td>2</td>\n",
       "      <td>27-05-2024</td>\n",
       "      <td>Inside Rangamati</td>\n",
       "      <td>44</td>\n",
       "      <td>M</td>\n",
       "      <td>Redmi Note 12 Pro 8/128</td>\n",
       "      <td>15546.0</td>\n",
       "      <td>Yes</td>\n",
       "      <td>No</td>\n",
       "      <td>No</td>\n",
       "      <td>Yes</td>\n",
       "    </tr>\n",
       "    <tr>\n",
       "      <th>2</th>\n",
       "      <td>3</td>\n",
       "      <td>27-05-2024</td>\n",
       "      <td>Rangamati Sadar</td>\n",
       "      <td>45</td>\n",
       "      <td>M</td>\n",
       "      <td>R-70 Turbo 5G 6/128</td>\n",
       "      <td>26516.0</td>\n",
       "      <td>Yes</td>\n",
       "      <td>No</td>\n",
       "      <td>No</td>\n",
       "      <td>Yes</td>\n",
       "    </tr>\n",
       "    <tr>\n",
       "      <th>3</th>\n",
       "      <td>4</td>\n",
       "      <td>27-05-2024</td>\n",
       "      <td>Rangamati Sadar</td>\n",
       "      <td>46</td>\n",
       "      <td>M</td>\n",
       "      <td>R-70 Turbo 5G 6/128</td>\n",
       "      <td>21927.0</td>\n",
       "      <td>No</td>\n",
       "      <td>No</td>\n",
       "      <td>No</td>\n",
       "      <td>Yes</td>\n",
       "    </tr>\n",
       "    <tr>\n",
       "      <th>4</th>\n",
       "      <td>5</td>\n",
       "      <td>27-05-2024</td>\n",
       "      <td>Outside Rangamati</td>\n",
       "      <td>27</td>\n",
       "      <td>F</td>\n",
       "      <td>Vivo T3x 5G 8/128</td>\n",
       "      <td>16718.0</td>\n",
       "      <td>Yes</td>\n",
       "      <td>No</td>\n",
       "      <td>No</td>\n",
       "      <td>Yes</td>\n",
       "    </tr>\n",
       "  </tbody>\n",
       "</table>\n",
       "</div>"
      ],
      "text/plain": [
       "   Cus.ID        Date      Cus. Location  Age Gender              Mobile Name  \\\n",
       "0       1  27-05-2024    Rangamati Sadar   49      F      Galaxy A55 5G 8/128   \n",
       "1       2  27-05-2024   Inside Rangamati   44      M  Redmi Note 12 Pro 8/128   \n",
       "2       3  27-05-2024    Rangamati Sadar   45      M      R-70 Turbo 5G 6/128   \n",
       "3       4  27-05-2024    Rangamati Sadar   46      M      R-70 Turbo 5G 6/128   \n",
       "4       5  27-05-2024  Outside Rangamati   27      F        Vivo T3x 5G 8/128   \n",
       "\n",
       "   Sell Price Does he/she Come from Facebook Page?  \\\n",
       "0     17073.0                                   No   \n",
       "1     15546.0                                  Yes   \n",
       "2     26516.0                                  Yes   \n",
       "3     21927.0                                   No   \n",
       "4     16718.0                                  Yes   \n",
       "\n",
       "  Does he/she Followed Our Page? Did he/she buy any mobile before?  \\\n",
       "0                            Yes                                No   \n",
       "1                             No                                No   \n",
       "2                             No                                No   \n",
       "3                             No                                No   \n",
       "4                             No                                No   \n",
       "\n",
       "  Did he/she hear of our shop before?  \n",
       "0                                 Yes  \n",
       "1                                 Yes  \n",
       "2                                 Yes  \n",
       "3                                 Yes  \n",
       "4                                 Yes  "
      ]
     },
     "execution_count": 3,
     "metadata": {},
     "output_type": "execute_result"
    }
   ],
   "source": [
    "data.head()"
   ]
  },
  {
   "cell_type": "code",
   "execution_count": 4,
   "id": "de87a97a",
   "metadata": {
    "execution": {
     "iopub.execute_input": "2025-03-23T20:54:26.620499Z",
     "iopub.status.busy": "2025-03-23T20:54:26.620014Z",
     "iopub.status.idle": "2025-03-23T20:54:26.656266Z",
     "shell.execute_reply": "2025-03-23T20:54:26.654802Z"
    },
    "papermill": {
     "duration": 0.042608,
     "end_time": "2025-03-23T20:54:26.657941",
     "exception": false,
     "start_time": "2025-03-23T20:54:26.615333",
     "status": "completed"
    },
    "tags": []
   },
   "outputs": [
    {
     "name": "stdout",
     "output_type": "stream",
     "text": [
      "\n",
      "Dataset structure:\n",
      "<class 'pandas.core.frame.DataFrame'>\n",
      "RangeIndex: 8871 entries, 0 to 8870\n",
      "Data columns (total 11 columns):\n",
      " #   Column                                Non-Null Count  Dtype  \n",
      "---  ------                                --------------  -----  \n",
      " 0   Cus.ID                                8871 non-null   int64  \n",
      " 1   Date                                  8871 non-null   object \n",
      " 2   Cus. Location                         8871 non-null   object \n",
      " 3   Age                                   8871 non-null   int64  \n",
      " 4   Gender                                8871 non-null   object \n",
      " 5   Mobile Name                           8871 non-null   object \n",
      " 6   Sell Price                            8871 non-null   float64\n",
      " 7   Does he/she Come from Facebook Page?  8871 non-null   object \n",
      " 8   Does he/she Followed Our Page?        8871 non-null   object \n",
      " 9   Did he/she buy any mobile before?     8871 non-null   object \n",
      " 10  Did he/she hear of our shop before?   8871 non-null   object \n",
      "dtypes: float64(1), int64(2), object(8)\n",
      "memory usage: 762.5+ KB\n",
      "None\n"
     ]
    }
   ],
   "source": [
    "print(\"\\nDataset structure:\")\n",
    "print(data.info())\n"
   ]
  },
  {
   "cell_type": "code",
   "execution_count": 5,
   "id": "168dcd9a",
   "metadata": {
    "execution": {
     "iopub.execute_input": "2025-03-23T20:54:26.666839Z",
     "iopub.status.busy": "2025-03-23T20:54:26.666490Z",
     "iopub.status.idle": "2025-03-23T20:54:26.677607Z",
     "shell.execute_reply": "2025-03-23T20:54:26.676396Z"
    },
    "papermill": {
     "duration": 0.017502,
     "end_time": "2025-03-23T20:54:26.679304",
     "exception": false,
     "start_time": "2025-03-23T20:54:26.661802",
     "status": "completed"
    },
    "tags": []
   },
   "outputs": [
    {
     "name": "stdout",
     "output_type": "stream",
     "text": [
      "\n",
      "Missing values:\n",
      "Cus.ID                                  0\n",
      "Date                                    0\n",
      "Cus. Location                           0\n",
      "Age                                     0\n",
      "Gender                                  0\n",
      "Mobile Name                             0\n",
      "Sell Price                              0\n",
      "Does he/she Come from Facebook Page?    0\n",
      "Does he/she Followed Our Page?          0\n",
      "Did he/she buy any mobile before?       0\n",
      "Did he/she hear of our shop before?     0\n",
      "dtype: int64\n"
     ]
    }
   ],
   "source": [
    "print(\"\\nMissing values:\")\n",
    "print(data.isnull().sum())"
   ]
  },
  {
   "cell_type": "code",
   "execution_count": 6,
   "id": "ef786ff9",
   "metadata": {
    "execution": {
     "iopub.execute_input": "2025-03-23T20:54:26.690748Z",
     "iopub.status.busy": "2025-03-23T20:54:26.690376Z",
     "iopub.status.idle": "2025-03-23T20:54:26.713661Z",
     "shell.execute_reply": "2025-03-23T20:54:26.712561Z"
    },
    "papermill": {
     "duration": 0.031839,
     "end_time": "2025-03-23T20:54:26.715532",
     "exception": false,
     "start_time": "2025-03-23T20:54:26.683693",
     "status": "completed"
    },
    "tags": []
   },
   "outputs": [
    {
     "name": "stdout",
     "output_type": "stream",
     "text": [
      "\n",
      "Summary statistics for numerical columns:\n",
      "               Age    Sell Price\n",
      "count  8871.000000    8871.00000\n",
      "mean     34.047007   25068.38654\n",
      "std       9.592612   18032.80271\n",
      "min      18.000000   12702.00000\n",
      "25%      26.000000   17466.50000\n",
      "50%      34.000000   21682.00000\n",
      "75%      42.000000   25777.50000\n",
      "max      50.000000  200465.00000\n"
     ]
    }
   ],
   "source": [
    "print(\"\\nSummary statistics for numerical columns:\")\n",
    "print(data[['Age', 'Sell Price']].describe())"
   ]
  },
  {
   "cell_type": "code",
   "execution_count": 7,
   "id": "3e56e518",
   "metadata": {
    "execution": {
     "iopub.execute_input": "2025-03-23T20:54:26.731429Z",
     "iopub.status.busy": "2025-03-23T20:54:26.730986Z",
     "iopub.status.idle": "2025-03-23T20:54:27.187518Z",
     "shell.execute_reply": "2025-03-23T20:54:27.186354Z"
    },
    "papermill": {
     "duration": 0.46693,
     "end_time": "2025-03-23T20:54:27.189363",
     "exception": false,
     "start_time": "2025-03-23T20:54:26.722433",
     "status": "completed"
    },
    "tags": []
   },
   "outputs": [
    {
     "data": {
      "image/png": "[encoded data removed]",
      "text/plain": [
       "<Figure size 800x600 with 1 Axes>"
      ]
     },
     "metadata": {},
     "output_type": "display_data"
    }
   ],
   "source": [
    "# Distribution of Age\n",
    "plt.figure(figsize=(8, 6))\n",
    "sns.histplot(data['Age'], bins=20, kde=True)\n",
    "plt.title('Distribution of Age')\n",
    "plt.xlabel('Age')\n",
    "plt.ylabel('Frequency')\n",
    "plt.show()"
   ]
  },
  {
   "cell_type": "code",
   "execution_count": 8,
   "id": "1bbdb0af",
   "metadata": {
    "execution": {
     "iopub.execute_input": "2025-03-23T20:54:27.199971Z",
     "iopub.status.busy": "2025-03-23T20:54:27.199636Z",
     "iopub.status.idle": "2025-03-23T20:54:27.600960Z",
     "shell.execute_reply": "2025-03-23T20:54:27.599784Z"
    },
    "papermill": {
     "duration": 0.408933,
     "end_time": "2025-03-23T20:54:27.602928",
     "exception": false,
     "start_time": "2025-03-23T20:54:27.193995",
     "status": "completed"
    },
    "tags": []
   },
   "outputs": [
    {
     "data": {
      "image/png": "[encoded data removed]",
      "text/plain": [
       "<Figure size 800x600 with 1 Axes>"
      ]
     },
     "metadata": {},
     "output_type": "display_data"
    }
   ],
   "source": [
    "plt.figure(figsize=(8, 6))  # Create a figure\n",
    "sns.histplot(data['Sell Price'], bins=20, kde=True)  # Plot histogram\n",
    "plt.title('Distribution of Sell Price')  # Add title\n",
    "plt.xlabel('Sell Price')  # Add x-axis label\n",
    "plt.ylabel('Frequency')  # Add y-axis label\n",
    "plt.show()  # Show the plot"
   ]
  },
  {
   "cell_type": "code",
   "execution_count": 9,
   "id": "1b02a626",
   "metadata": {
    "execution": {
     "iopub.execute_input": "2025-03-23T20:54:27.615800Z",
     "iopub.status.busy": "2025-03-23T20:54:27.615450Z",
     "iopub.status.idle": "2025-03-23T20:54:27.642402Z",
     "shell.execute_reply": "2025-03-23T20:54:27.641085Z"
    },
    "papermill": {
     "duration": 0.035946,
     "end_time": "2025-03-23T20:54:27.644264",
     "exception": false,
     "start_time": "2025-03-23T20:54:27.608318",
     "status": "completed"
    },
    "tags": []
   },
   "outputs": [],
   "source": [
    "categorical_features = ['Cus. Location', 'Gender', 'Mobile Name', 'Does he/she Come from Facebook Page?', \n",
    "                        'Does he/she Followed Our Page?', 'Did he/she buy any mobile before?', \n",
    "                        'Did he/she hear of our shop before?']\n",
    "data_encoded = pd.get_dummies(data, columns=categorical_features, drop_first=True)\n",
    "\n",
    "# Define features (X) and target (y)\n",
    "X = data_encoded.drop(columns=['Cus.ID', 'Date', 'Sell Price'])  # Drop non-relevant columns\n",
    "y = data_encoded['Sell Price']\n",
    "\n",
    "# Split the data into training and testing sets\n",
    "X_train, X_test, y_train, y_test = train_test_split(X, y, test_size=0.2, random_state=42)\n",
    "# Machine Learning: Build and Evaluate Models\n",
    "# ==================================================\n",
    "# Function to evaluate models\n",
    "def evaluate_model(model, X_train, X_test, y_train, y_test):\n",
    "    model.fit(X_train, y_train)  # Train the model\n",
    "    y_pred = model.predict(X_test)  # Make predictions\n",
    "    mse = mean_squared_error(y_test, y_pred)  # Calculate MSE\n",
    "    r2 = r2_score(y_test, y_pred)  # Calculate R-squared\n",
    "    return mse, r2# Initialize models\n",
    "linear_model = LinearRegression()\n",
    "rf_model = RandomForestRegressor(random_state=42)\n",
    "gb_model = GradientBoostingRegressor(random_state=42)"
   ]
  },
  {
   "cell_type": "code",
   "execution_count": 10,
   "id": "328755af",
   "metadata": {
    "execution": {
     "iopub.execute_input": "2025-03-23T20:54:27.656442Z",
     "iopub.status.busy": "2025-03-23T20:54:27.656022Z",
     "iopub.status.idle": "2025-03-23T20:54:27.719146Z",
     "shell.execute_reply": "2025-03-23T20:54:27.717643Z"
    },
    "papermill": {
     "duration": 0.071258,
     "end_time": "2025-03-23T20:54:27.720994",
     "exception": false,
     "start_time": "2025-03-23T20:54:27.649736",
     "status": "completed"
    },
    "tags": []
   },
   "outputs": [
    {
     "name": "stdout",
     "output_type": "stream",
     "text": [
      "\n",
      "Linear Regression:\n",
      "Mean Squared Error: 258838637.616707\n",
      "R-squared: 0.09807606037594774\n"
     ]
    }
   ],
   "source": [
    "# Evaluate Linear Regression\n",
    "linear_mse, linear_r2 = evaluate_model(linear_model, X_train, X_test, y_train, y_test)\n",
    "print(\"\\nLinear Regression:\")\n",
    "print(f\"Mean Squared Error: {linear_mse}\")\n",
    "print(f\"R-squared: {linear_r2}\")"
   ]
  },
  {
   "cell_type": "code",
   "execution_count": 11,
   "id": "9d4289ae",
   "metadata": {
    "execution": {
     "iopub.execute_input": "2025-03-23T20:54:27.733481Z",
     "iopub.status.busy": "2025-03-23T20:54:27.733015Z",
     "iopub.status.idle": "2025-03-23T20:54:29.790480Z",
     "shell.execute_reply": "2025-03-23T20:54:29.789155Z"
    },
    "papermill": {
     "duration": 2.065676,
     "end_time": "2025-03-23T20:54:29.792368",
     "exception": false,
     "start_time": "2025-03-23T20:54:27.726692",
     "status": "completed"
    },
    "tags": []
   },
   "outputs": [
    {
     "name": "stdout",
     "output_type": "stream",
     "text": [
      "\n",
      "Random Forest Regressor:\n",
      "Mean Squared Error: 337973067.73663473\n",
      "R-squared: -0.17766807748093694\n"
     ]
    }
   ],
   "source": [
    "# Evaluate Random Forest\n",
    "rf_mse, rf_r2 = evaluate_model(rf_model, X_train, X_test, y_train, y_test)\n",
    "print(\"\\nRandom Forest Regressor:\")\n",
    "print(f\"Mean Squared Error: {rf_mse}\")\n",
    "print(f\"R-squared: {rf_r2}\")"
   ]
  },
  {
   "cell_type": "code",
   "execution_count": 12,
   "id": "8c181928",
   "metadata": {
    "execution": {
     "iopub.execute_input": "2025-03-23T20:54:29.805112Z",
     "iopub.status.busy": "2025-03-23T20:54:29.804753Z",
     "iopub.status.idle": "2025-03-23T20:54:30.339137Z",
     "shell.execute_reply": "2025-03-23T20:54:30.337838Z"
    },
    "papermill": {
     "duration": 0.542667,
     "end_time": "2025-03-23T20:54:30.341020",
     "exception": false,
     "start_time": "2025-03-23T20:54:29.798353",
     "status": "completed"
    },
    "tags": []
   },
   "outputs": [
    {
     "name": "stdout",
     "output_type": "stream",
     "text": [
      "\n",
      "Gradient Boosting Regressor:\n",
      "Mean Squared Error: 267947276.03495172\n",
      "R-squared: 0.06633698493327889\n"
     ]
    }
   ],
   "source": [
    "# Evaluate Gradient Boosting\n",
    "gb_mse, gb_r2 = evaluate_model(gb_model, X_train, X_test, y_train, y_test)\n",
    "print(\"\\nGradient Boosting Regressor:\")\n",
    "print(f\"Mean Squared Error: {gb_mse}\")\n",
    "print(f\"R-squared: {gb_r2}\")"
   ]
  }
 ],
 "metadata": {
  "kaggle": {
   "accelerator": "none",
   "dataSources": [
    {
     "datasetId": 6945230,
     "sourceId": 11135411,
     "sourceType": "datasetVersion"
    }
   ],
   "dockerImageVersionId": 30918,
   "isGpuEnabled": false,
   "isInternetEnabled": true,
   "language": "python",
   "sourceType": "notebook"
  },
  "kernelspec": {
   "display_name": "Python 3",
   "language": "python",
   "name": "python3"
  },
  "language_info": {
   "codemirror_mode": {
    "name": "ipython",
    "version": 3
   },
   "file_extension": ".py",
   "mimetype": "text/x-python",
   "name": "python",
   "nbconvert_exporter": "python",
   "pygments_lexer": "ipython3",
   "version": "3.10.12"
  },
  "papermill": {
   "default_parameters": {},
   "duration": 11.584256,
   "end_time": "2025-03-23T20:54:31.170792",
   "environment_variables": {},
   "exception": null,
   "input_path": "__notebook__.ipynb",
   "output_path": "__notebook__.ipynb",
   "parameters": {},
   "start_time": "2025-03-23T20:54:19.586536",
   "version": "2.6.0"
  }
 },
 "nbformat": 4,
 "nbformat_minor": 5
}
